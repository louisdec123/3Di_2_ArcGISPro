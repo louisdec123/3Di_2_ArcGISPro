{
 "cells": [
  {
   "cell_type": "markdown",
   "metadata": {},
   "source": [
    "# Starting 3Di Simulation Demo"
   ]
  },
  {
   "cell_type": "markdown",
   "metadata": {},
   "source": [
    "## Install and Import required packages:"
   ]
  },
  {
   "cell_type": "code",
   "execution_count": 2,
   "metadata": {
    "scrolled": true
   },
   "outputs": [
    {
     "name": "stdout",
     "output_type": "stream",
     "text": [
      "Defaulting to user installation because normal site-packages is not writeable\n",
      "Requirement already satisfied: datetime in c:\\users\\dechamps\\appdata\\roaming\\python\\python39\\site-packages (5.2)\n",
      "Requirement already satisfied: zope.interface in c:\\users\\dechamps\\appdata\\roaming\\python\\python39\\site-packages (from datetime) (6.1)\n",
      "Requirement already satisfied: pytz in c:\\program files\\arcgis\\pro\\bin\\python\\envs\\arcgispro-py3\\lib\\site-packages\\pytz-2022.6-py3.9.egg (from datetime) (2022.6)\n",
      "Requirement already satisfied: setuptools in c:\\program files\\arcgis\\pro\\bin\\python\\envs\\arcgispro-py3\\lib\\site-packages (from zope.interface->datetime) (65.5.1)\n",
      "Defaulting to user installation because normal site-packages is not writeable\n",
      "Requirement already satisfied: threedi_api_client in c:\\users\\dechamps\\appdata\\roaming\\python\\python39\\site-packages (4.1.4)\n",
      "Requirement already satisfied: certifi>=2019.3.9 in c:\\program files\\arcgis\\pro\\bin\\python\\envs\\arcgispro-py3\\lib\\site-packages (from threedi_api_client) (2022.9.24)\n",
      "Requirement already satisfied: urllib3<2.0,>=1.24 in c:\\program files\\arcgis\\pro\\bin\\python\\envs\\arcgispro-py3\\lib\\site-packages (from threedi_api_client) (1.26.12)\n",
      "Requirement already satisfied: python-dateutil in c:\\program files\\arcgis\\pro\\bin\\python\\envs\\arcgispro-py3\\lib\\site-packages (from threedi_api_client) (2.8.2)\n",
      "Requirement already satisfied: six>=1.10 in c:\\program files\\arcgis\\pro\\bin\\python\\envs\\arcgispro-py3\\lib\\site-packages (from threedi_api_client) (1.16.0)\n",
      "Defaulting to user installation because normal site-packages is not writeable\n",
      "Requirement already satisfied: threedi_scenario_downloader in c:\\users\\dechamps\\appdata\\roaming\\python\\python39\\site-packages (1.2)\n",
      "Requirement already satisfied: requests in c:\\program files\\arcgis\\pro\\bin\\python\\envs\\arcgispro-py3\\lib\\site-packages (from threedi_scenario_downloader) (2.28.1)\n",
      "Requirement already satisfied: idna<4,>=2.5 in c:\\program files\\arcgis\\pro\\bin\\python\\envs\\arcgispro-py3\\lib\\site-packages (from requests->threedi_scenario_downloader) (3.4)\n",
      "Requirement already satisfied: certifi>=2017.4.17 in c:\\program files\\arcgis\\pro\\bin\\python\\envs\\arcgispro-py3\\lib\\site-packages (from requests->threedi_scenario_downloader) (2022.9.24)\n",
      "Requirement already satisfied: urllib3<1.27,>=1.21.1 in c:\\program files\\arcgis\\pro\\bin\\python\\envs\\arcgispro-py3\\lib\\site-packages (from requests->threedi_scenario_downloader) (1.26.12)\n",
      "Requirement already satisfied: charset-normalizer<3,>=2 in c:\\program files\\arcgis\\pro\\bin\\python\\envs\\arcgispro-py3\\lib\\site-packages (from requests->threedi_scenario_downloader) (2.0.4)\n"
     ]
    }
   ],
   "source": [
    "!pip install datetime\n",
    "!pip install threedi_api_client\n",
    "!pip install threedi_scenario_downloader"
   ]
  },
  {
   "cell_type": "code",
   "execution_count": 5,
   "metadata": {},
   "outputs": [],
   "source": [
    "import arcpy"
   ]
  },
  {
   "cell_type": "code",
   "execution_count": 22,
   "metadata": {},
   "outputs": [],
   "source": [
    "from datetime import datetime, timedelta\n",
    "import datetime\n",
    "from getpass import getpass\n",
    "import pandas as pd\n",
    "import json\n",
    "from threedi_api_client.threedi_api_client import ThreediApiClient\n",
    "from threedi_api_client.api import ThreediApi\n",
    "from threedi_api_client.versions import V3Api\n",
    "from threedi_api_client.openapi import ApiException\n",
    "from pandas.io.json import json_normalize\n",
    "import matplotlib.pyplot as plt\n",
    "import requests\n",
    "from pathlib import Path\n",
    "import numpy as np\n",
    "import configparser\n",
    "import os\n",
    "import math\n",
    "from time import sleep\n",
    "from threedi_scenario_downloader import downloader as dl\n",
    "from pathlib import Path"
   ]
  },
  {
   "cell_type": "markdown",
   "metadata": {},
   "source": [
    "## Provide credentials and check connection "
   ]
  },
  {
   "cell_type": "code",
   "execution_count": 7,
   "metadata": {},
   "outputs": [],
   "source": [
    "API_HOST = \"https://api.3di.live\"\n",
    "PERSONAL_API_KEY = \"xNmWa0TI.fR6QPYdIzgKhQhc5iOOJVM7OW13lT2mC\"\n",
    "\n",
    "\n",
    "config = {\n",
    "    \"THREEDI_API_HOST\": API_HOST,\n",
    "    \"THREEDI_API_PERSONAL_API_TOKEN\": PERSONAL_API_KEY\n",
    "}\n",
    "\n",
    "api_client: V3Api = ThreediApi(config=config)"
   ]
  },
  {
   "cell_type": "code",
   "execution_count": 8,
   "metadata": {},
   "outputs": [
    {
     "name": "stdout",
     "output_type": "stream",
     "text": [
      "Successfully logged in as louisdechamps!\n"
     ]
    }
   ],
   "source": [
    "try:\n",
    "    user = api_client.auth_profile_list()\n",
    "except ApiException as e:\n",
    "    print(\"Oops, something went wrong. Maybe you made a typo?\")\n",
    "else:\n",
    "    print(f\"Successfully logged in as {user.username}!\")"
   ]
  },
  {
   "cell_type": "markdown",
   "metadata": {},
   "source": [
    "## Find and select model"
   ]
  },
  {
   "cell_type": "code",
   "execution_count": 9,
   "metadata": {
    "scrolled": false
   },
   "outputs": [
    {
     "name": "stdout",
     "output_type": "stream",
     "text": [
      "Centrum_proj_2023 #4\n",
      "assen_baggelhuizen - baggelhuizen_klimaatsom (1) #11\n",
      "assen_baggelhuizen - baggelhuizen_klimaatsom (1) #10\n",
      "assen_pittelo - pittelo_klimaatsom (1) #19\n",
      "assen-kloosterveen - kloosterveen_klimaatsom (1) #13\n"
     ]
    }
   ],
   "source": [
    "models = api_client.threedimodels_list(limit=5)  # limit to the first 5 results\n",
    "for model in models.results:\n",
    "    print(f\"{model.name}\")"
   ]
  },
  {
   "cell_type": "code",
   "execution_count": 10,
   "metadata": {},
   "outputs": [
    {
     "name": "stdout",
     "output_type": "stream",
     "text": [
      "{'count': 1,\n",
      " 'next': None,\n",
      " 'previous': None,\n",
      " 'results': [{'breach_count': 1,\n",
      "              'description': '',\n",
      "              'disabled': False,\n",
      "              'epsg': 28992,\n",
      "              'extent_one_d': {'coordinates': [[6.531728641019742,\n",
      "                                                52.994295524229415],\n",
      "                                               [6.587804772187735,\n",
      "                                                53.01697215747997]],\n",
      "                               'type': 'LineString'},\n",
      "              'extent_two_d': {'coordinates': [[6.530120259229756,\n",
      "                                                52.99407988169934],\n",
      "                                               [6.599757596521151,\n",
      "                                                53.01828788980113]],\n",
      "                               'type': 'LineString'},\n",
      "              'extent_zero_d': {'coordinates': [[6.531832440627837,\n",
      "                                                 52.99433452238827],\n",
      "                                                [6.587252391944547,\n",
      "                                                 53.015262359671716]],\n",
      "                                'type': 'LineString'},\n",
      "              'id': 60384,\n",
      "              'inp_success': True,\n",
      "              'inpy_version': '-',\n",
      "              'is_valid': True,\n",
      "              'lines_count': 121660,\n",
      "              'model_ini': ' ',\n",
      "              'name': 'assen_pittelo - pittelo_klimaatsom (1) #19',\n",
      "              'nodes_count': 61392,\n",
      "              'repository_slug': 'assen_pittelo-pittelo_klimaatsom-1',\n",
      "              'revision': 'https://api.3di.live/v3/schematisations/2624/revisions/52415/',\n",
      "              'revision_commit_date': '2023-10-24T09:26:47.164470Z',\n",
      "              'revision_hash': '',\n",
      "              'revision_id': 52415,\n",
      "              'revision_number': '19',\n",
      "              'schematisation_id': 2624,\n",
      "              'schematisation_name': 'assen_pittelo - pittelo_klimaatsom (1)',\n",
      "              'slug': 'assen_pittelo-pittelo_klimaatsom-1-19',\n",
      "              'storage_space': 210273070,\n",
      "              'storage_space_humanized': '210.3 MB',\n",
      "              'threedi_version': '3.2.70',\n",
      "              'url': 'https://api.3di.live/v3/threedimodels/60384/',\n",
      "              'user': 'lukas.oosterbaan'}]}\n"
     ]
    }
   ],
   "source": [
    "my_model = api_client.threedimodels_list(name__icontains='assen_pittelo - pittelo_klimaatsom (1) #19')\n",
    "print(my_model)\n",
    "\n",
    "my_model = my_model.results[0]"
   ]
  },
  {
   "cell_type": "markdown",
   "metadata": {},
   "source": [
    "## Find organization ID to run the simulation under"
   ]
  },
  {
   "cell_type": "code",
   "execution_count": 11,
   "metadata": {},
   "outputs": [
    {
     "name": "stdout",
     "output_type": "stream",
     "text": [
      "Gemeente Assen: 04b793908f7c4b599c578c68203a2f0d\n"
     ]
    }
   ],
   "source": [
    "organisations = api_client.organisations_list()\n",
    "for organisation in organisations.results:\n",
    "    print(f\"{organisation.name}: {organisation.unique_id}\")"
   ]
  },
  {
   "cell_type": "markdown",
   "metadata": {},
   "source": [
    "## Create Simulation and add event"
   ]
  },
  {
   "cell_type": "code",
   "execution_count": 12,
   "metadata": {
    "scrolled": false
   },
   "outputs": [
    {
     "name": "stdout",
     "output_type": "stream",
     "text": [
      "12463 Wadi WA Scholtenstraat 9.5 weg 10.0\n",
      "Name your simulation\n",
      "13012020231044\n",
      "{'breach': [],\n",
      " 'fileboundaryconditions': {'file': {'bucket': '3di',\n",
      "                                     'etag': '6b1494cd3c6423b44621cf9a2cc337f9',\n",
      "                                     'expiry_date': datetime.date(2123, 9, 30),\n",
      "                                     'filename': 'boundaries_7be78286.json',\n",
      "                                     'id': 821054,\n",
      "                                     'meta': {'event_count': 1,\n",
      "                                              'timeframes': [0, 599940]},\n",
      "                                     'prefix': None,\n",
      "                                     'related_object': 'https://api.3di.live/v3/simulations/157506/events/boundaryconditions/file/66703/',\n",
      "                                     'size': 83,\n",
      "                                     'state': 'processed',\n",
      "                                     'state_description': 'File has been '\n",
      "                                                          'uploaded '\n",
      "                                                          'successfully',\n",
      "                                     'storage_name': 'MINIO_DEV',\n",
      "                                     'type': 'bulk_boundaryconditions',\n",
      "                                     'url': 'https://api.3di.live/v3/files/821054/'},\n",
      "                            'id': 72400,\n",
      "                            'simulation': 'https://api.3di.live/v3/simulations/165737/',\n",
      "                            'state': 'valid',\n",
      "                            'state_detail': {'event_count': 1,\n",
      "                                             'timeframes': [0.0, 599940.0]},\n",
      "                            'uid': 'd4326597-db9e-4a67-a80b-246c697e7da4',\n",
      "                            'url': 'https://api.3di.live/v3/simulations/165737/events/boundaryconditions/file/72400/'},\n",
      " 'filelaterals': [{'file': {'bucket': '3di',\n",
      "                            'etag': '79790b0d850f86ce7c350f07a4ef00dc',\n",
      "                            'expiry_date': datetime.date(2123, 9, 30),\n",
      "                            'filename': 'dwf_laterals_660acbf4.json',\n",
      "                            'id': 821053,\n",
      "                            'meta': {'event_count': 1775,\n",
      "                                     'timeframes': [0,\n",
      "                                                    3600,\n",
      "                                                    7200,\n",
      "                                                    10800,\n",
      "                                                    14400,\n",
      "                                                    18000,\n",
      "                                                    21600,\n",
      "                                                    25200,\n",
      "                                                    28800,\n",
      "                                                    32400,\n",
      "                                                    36000,\n",
      "                                                    39600,\n",
      "                                                    43200,\n",
      "                                                    46800,\n",
      "                                                    50400,\n",
      "                                                    54000,\n",
      "                                                    57600,\n",
      "                                                    61200,\n",
      "                                                    64800,\n",
      "                                                    68400,\n",
      "                                                    72000,\n",
      "                                                    75600,\n",
      "                                                    79200,\n",
      "                                                    82800,\n",
      "                                                    86400]},\n",
      "                            'prefix': None,\n",
      "                            'related_object': 'https://api.3di.live/v3/simulations/157506/events/lateral/file/32464/',\n",
      "                            'size': 1382794,\n",
      "                            'state': 'processed',\n",
      "                            'state_description': 'File has been uploaded '\n",
      "                                                 'successfully',\n",
      "                            'storage_name': 'MINIO_DEV',\n",
      "                            'type': 'bulklateral',\n",
      "                            'url': 'https://api.3di.live/v3/files/821053/'},\n",
      "                   'id': 35912,\n",
      "                   'offset': 0,\n",
      "                   'periodic': 'daily',\n",
      "                   'simulation': 'https://api.3di.live/v3/simulations/165737/',\n",
      "                   'state': 'valid',\n",
      "                   'state_detail': {'event_count': 1775,\n",
      "                                    'timeframes': [0,\n",
      "                                                   3600,\n",
      "                                                   7200,\n",
      "                                                   10800,\n",
      "                                                   14400,\n",
      "                                                   18000,\n",
      "                                                   21600,\n",
      "                                                   25200,\n",
      "                                                   28800,\n",
      "                                                   32400,\n",
      "                                                   36000,\n",
      "                                                   39600,\n",
      "                                                   43200,\n",
      "                                                   46800,\n",
      "                                                   50400,\n",
      "                                                   54000,\n",
      "                                                   57600,\n",
      "                                                   61200,\n",
      "                                                   64800,\n",
      "                                                   68400,\n",
      "                                                   72000,\n",
      "                                                   75600,\n",
      "                                                   79200,\n",
      "                                                   82800,\n",
      "                                                   86400]},\n",
      "                   'uid': '709ac9a6-0084-4ba6-917b-a782a80f9fd3',\n",
      "                   'url': 'https://api.3di.live/v3/simulations/165737/events/lateral/file/35912/'}],\n",
      " 'filerasterleakage': [],\n",
      " 'filerasterrain': [],\n",
      " 'filerastersourcessinks': [],\n",
      " 'filestructurecontrols': [],\n",
      " 'filetimeseriesleakage': [],\n",
      " 'filetimeseriesrain': [],\n",
      " 'filetimeseriessourcessinks': [],\n",
      " 'initial_groundwaterlevel': None,\n",
      " 'initial_groundwaterraster': None,\n",
      " 'initial_onedwaterlevel': None,\n",
      " 'initial_onedwaterlevelfile': {'id': 73617,\n",
      "                                'initial_waterlevel': 'https://api.3di.live/v3/threedimodels/60384/initial_waterlevels/14065/',\n",
      "                                'initial_waterlevel_id': 14065,\n",
      "                                'simulation': 'https://api.3di.live/v3/simulations/165737/',\n",
      "                                'uid': '4b18db8b-d49d-4779-bb67-90f04ea6775c',\n",
      "                                'url': 'https://api.3di.live/v3/simulations/165737/initial/1d_water_level/file/73617/'},\n",
      " 'initial_onedwaterlevelpredefined': None,\n",
      " 'initial_savedstate': None,\n",
      " 'initial_twodwaterlevel': None,\n",
      " 'initial_twodwaterraster': {'aggregation_method': 'max',\n",
      "                             'id': 83356,\n",
      "                             'initial_waterlevel': 'https://api.3di.live/v3/threedimodels/60384/initial_waterlevels/14066/',\n",
      "                             'initial_waterlevel_id': 14066,\n",
      "                             'simulation': 'https://api.3di.live/v3/simulations/165737/',\n",
      "                             'uid': '9e09686a-7ff5-4463-9e66-1fde4718a341',\n",
      "                             'url': 'https://api.3di.live/v3/simulations/165737/initial/2d_water_level/raster/83356/'},\n",
      " 'initial_winddragcoefficient': None,\n",
      " 'laterals': [],\n",
      " 'leakage': [],\n",
      " 'lizardrasterrain': [],\n",
      " 'lizardrastersourcessinks': [],\n",
      " 'lizardtimeseriesrain': [],\n",
      " 'lizardtimeseriessourcessinks': [],\n",
      " 'localrain': [],\n",
      " 'memorystructurecontrols': [],\n",
      " 'obstacleedits': [],\n",
      " 'rasteredits': [],\n",
      " 'savedstates': [],\n",
      " 'tablestructurecontrols': [],\n",
      " 'timedstructurecontrols': [],\n",
      " 'timeseriesrain': [{'constant': False,\n",
      "                     'duration': 3600,\n",
      "                     'id': 110913,\n",
      "                     'interpolate': False,\n",
      "                     'offset': 0,\n",
      "                     'simulation': 'https://api.3di.live/v3/simulations/165737/',\n",
      "                     'uid': '2e1022c2-f5e7-4ad0-b533-6af129537cbf',\n",
      "                     'units': 'm/s',\n",
      "                     'url': 'https://api.3di.live/v3/simulations/165737/events/rain/timeseries/110913/',\n",
      "                     'values': [[0.0, 0.005],\n",
      "                                [900.0, 0.002],\n",
      "                                [1800.0, 0.001],\n",
      "                                [2700.0, 0.0005],\n",
      "                                [3600.0, 0.0]]}],\n",
      " 'timeseriessourcessinks': [],\n"
     ]
    },
    {
     "name": "stdout",
     "output_type": "stream",
     "text": [
      " 'wind': []}\n"
     ]
    }
   ],
   "source": [
    "simulation_templates = api_client.simulation_templates_list(simulation__threedimodel__id=my_model.id)\n",
    "\n",
    "for simulation_template in simulation_templates.results:\n",
    "    print(simulation_template.id, simulation_template.name)\n",
    "\n",
    "assert simulation_templates.count > 0, f\"No simulation templates found for threedimodel {my_model.name}\"\n",
    "\n",
    "simulation_template_id = simulation_templates.results[0].id\n",
    "\n",
    "simulation_name = input('Name your simulation\\n')\n",
    "\n",
    "my_simulation = api_client.simulations_from_template(\n",
    "    data={\n",
    "        \"template\": simulation_template_id,\n",
    "        \"name\": simulation_name,\n",
    "        \"organisation\": '04b793908f7c4b599c578c68203a2f0d',\n",
    "        \"start_datetime\": datetime(2020, 11, 15, 14, 0),\n",
    "        \"duration\": 3600  # in seconds, so we simulate for 1 hour\n",
    "    }\n",
    ")"
   ]
  },
  {
   "cell_type": "markdown",
   "metadata": {},
   "source": [
    "## Add Events"
   ]
  },
  {
   "cell_type": "code",
   "execution_count": null,
   "metadata": {},
   "outputs": [],
   "source": [
    "#Add rain timeseries event\n",
    "rain = api_client.simulations_events_rain_timeseries_create(\n",
    "    simulation_pk=my_simulation.id, data={\n",
    "        'offset':0,\n",
    "        'values': [[0, 0.005], [900, 0.002], [1800, 0.001], [2700, 0.0005], [3600, 0]],\n",
    "        'units': 'm/s'}\n",
    ")\n",
    "\n",
    "\n",
    "events = api_client.simulations_events(my_simulation.id)\n",
    "print(events)"
   ]
  },
  {
   "cell_type": "markdown",
   "metadata": {},
   "source": [
    "## Start and check status"
   ]
  },
  {
   "cell_type": "code",
   "execution_count": 13,
   "metadata": {
    "scrolled": true
   },
   "outputs": [
    {
     "name": "stdout",
     "output_type": "stream",
     "text": [
      "{'created': datetime.datetime(2023, 12, 13, 9, 44, 12, 587303, tzinfo=tzutc()),\n",
      " 'exit_code': None,\n",
      " 'id': 753500,\n",
      " 'name': 'created',\n",
      " 'paused': None,\n",
      " 'time': 0.0}\n"
     ]
    }
   ],
   "source": [
    "status = api_client.simulations_status_list(my_simulation.id)\n",
    "print(status)"
   ]
  },
  {
   "cell_type": "code",
   "execution_count": 14,
   "metadata": {
    "scrolled": true
   },
   "outputs": [
    {
     "data": {
      "text/plain": [
       "{'compute_cluster': None,\n",
       " 'duration': None,\n",
       " 'max_rate': None,\n",
       " 'name': 'start',\n",
       " 'simulation_runner': None,\n",
       " 'timeout': 300}"
      ]
     },
     "execution_count": 14,
     "metadata": {},
     "output_type": "execute_result"
    }
   ],
   "source": [
    "api_client.simulations_actions_create(my_simulation.id, data={\"name\": \"start\"})"
   ]
  },
  {
   "cell_type": "code",
   "execution_count": 15,
   "metadata": {
    "scrolled": true
   },
   "outputs": [
    {
     "name": "stdout",
     "output_type": "stream",
     "text": [
      "Simulation status: starting\n",
      "Simulation status: initialized\n",
      "Simulation status: initialized\n",
      "Simulation status: initialized\n",
      "Simulation status: initialized\n",
      "Simulation status: initialized\n",
      "Simulation status: initialized\n",
      "Simulation status: initialized\n",
      "Simulation status: initialized\n",
      "Simulation status: initialized\n",
      "Simulation status: initialized\n",
      "Simulation status: initialized\n",
      "Simulation status: initialized\n",
      "Simulation status: initialized\n",
      "Simulation status: initialized\n",
      "Simulation status: initialized\n",
      "Simulation status: initialized\n",
      "Simulation status: initialized\n",
      "Simulation status: initialized\n",
      "Simulation status: initialized\n",
      "Simulation status: initialized\n",
      "Simulation status: initialized\n",
      "Simulation status: initialized\n",
      "Simulation status: initialized\n",
      "Simulation status: initialized\n",
      "Simulation status: initialized\n",
      "Simulation status: initialized\n",
      "Simulation status: initialized\n",
      "Simulation status: initialized\n",
      "Simulation status: initialized\n",
      "Simulation status: initialized\n",
      "Simulation status: initialized\n",
      "Simulation status: initialized\n",
      "Simulation status: initialized\n",
      "Simulation status: initialized\n",
      "Simulation status: initialized\n",
      "Simulation status: initialized\n",
      "Simulation status: initialized\n",
      "Simulation status: initialized\n",
      "Simulation status: initialized\n",
      "Simulation status: initialized\n",
      "Simulation status: initialized\n",
      "Simulation status: initialized\n",
      "Simulation status: initialized\n",
      "Simulation status: initialized\n",
      "Simulation status: initialized\n",
      "Simulation status: initialized\n",
      "Simulation status: initialized\n",
      "Simulation status: initialized\n",
      "Simulation status: initialized\n",
      "Simulation status: initialized\n",
      "Simulation status: initialized\n",
      "Simulation status: initialized\n",
      "Simulation status: initialized\n",
      "Simulation status: initialized\n",
      "Simulation status: initialized\n",
      "Simulation status: initialized\n",
      "Simulation status: initialized\n",
      "Simulation status: initialized\n",
      "Simulation status: initialized\n",
      "Simulation status: initialized\n",
      "Simulation status: initialized\n",
      "Simulation status: finished\n",
      "Simulation has finished.\n"
     ]
    }
   ],
   "source": [
    "while True:\n",
    "    simulation_status = api_client.simulations_status_list(my_simulation.id)\n",
    "    \n",
    "    print(f\"Simulation status: {simulation_status.name}\")\n",
    "    \n",
    "    if simulation_status.name.lower() == 'finished':\n",
    "        print(\"Simulation has finished.\")\n",
    "        break\n",
    "    \n",
    "    time.sleep(10)  # Wait for 10 seconds before the next iteration\n"
   ]
  },
  {
   "cell_type": "markdown",
   "metadata": {},
   "source": [
    "# Using Lizard to simulate and download"
   ]
  },
  {
   "cell_type": "markdown",
   "metadata": {},
   "source": [
    "## Post Processing"
   ]
  },
  {
   "cell_type": "code",
   "execution_count": 16,
   "metadata": {},
   "outputs": [
    {
     "name": "stdout",
     "output_type": "stream",
     "text": [
      "Scenario name: EsriRainfall\n"
     ]
    },
    {
     "data": {
      "text/plain": [
       "{'created': datetime.datetime(2023, 12, 13, 9, 57, 38, 703452, tzinfo=tzutc()),\n",
       " 'simulation': 'https://api.3di.live/v3/simulations/165737/',\n",
       " 'status': 'requested'}"
      ]
     },
     "execution_count": 16,
     "metadata": {},
     "output_type": "execute_result"
    }
   ],
   "source": [
    "scenario_name= input('Scenario name: ')\n",
    "testdict = {\n",
    "    \"scenario_name\": scenario_name,\n",
    "    \"process_basic_results\": True,\n",
    "}\n",
    "\n",
    "\n",
    "api_client.simulations_results_post_processing_lizard_basic_create(simulation_pk=my_simulation.id, data = testdict)\n",
    "\n",
    "api_client.simulations_results_post_processing_lizard_start_create(simulation_pk = my_simulation.id, data = testdict)\n",
    "api_client.simulations_results_post_processing_lizard_status_list(simulation_pk=my_simulation.id)"
   ]
  },
  {
   "cell_type": "code",
   "execution_count": 17,
   "metadata": {},
   "outputs": [
    {
     "name": "stdout",
     "output_type": "stream",
     "text": [
      "Simulation status: archiving\n",
      "Simulation status: archiving\n",
      "Simulation status: archiving\n",
      "Simulation status: archiving\n",
      "Simulation status: archiving\n",
      "Simulation status: archiving\n",
      "Simulation status: archiving\n",
      "Simulation status: archiving\n",
      "Simulation status: archived\n",
      "Scenario is archived.\n"
     ]
    }
   ],
   "source": [
    "while True:\n",
    "    scenario_status = api_client.simulations_results_post_processing_lizard_status_list(simulation_pk=my_simulation.id)\n",
    "    \n",
    "    print(f\"Simulation status: {scenario_status.status}\")\n",
    "    \n",
    "    if scenario_status.status.lower() == 'archived':\n",
    "        print(\"Scenario is archived.\")\n",
    "        break\n",
    "    \n",
    "    time.sleep(10)  # Wait for 10 seconds before the next iteration"
   ]
  },
  {
   "cell_type": "markdown",
   "metadata": {},
   "source": [
    "## Set Parameters"
   ]
  },
  {
   "cell_type": "code",
   "execution_count": null,
   "metadata": {},
   "outputs": [],
   "source": [
    "#Provide login credentials\n",
    "lizard_username = '__key__'\n",
    "api_key = \"lmMIYSJR.KtuoasnIzy0DA1BpZBSSHQsS96Xadg9U\"\n",
    "\n",
    "dl.set_api_key(api_key)\n",
    "\n",
    "#Enter scenario information\n",
    "srs = \"EPSG:28992\"\n",
    "raster_resolution = 1\n",
    "name = \"EsriRainfall\" #scenario_name"
   ]
  },
  {
   "cell_type": "markdown",
   "metadata": {},
   "source": [
    "## Download Max Waterlevel"
   ]
  },
  {
   "cell_type": "code",
   "execution_count": 20,
   "metadata": {
    "scrolled": false
   },
   "outputs": [
    {
     "name": "stdout",
     "output_type": "stream",
     "text": [
      "C:\\Users\\dechamps\\Documents\\ArcGIS\\Projects\\3DiDemo\\water_lvl.tif\n",
      "[{'url': 'https://demo.lizard.net/api/v4/scenarios/3fb180be-fec7-426c-968b-7be7f2442e59/', 'uuid': '3fb180be-fec7-426c-968b-7be7f2442e59', 'name': 'EsriRainfall', 'organisation': {'url': 'https://demo.lizard.net/api/v4/organisations/04b79390-8f7c-4b59-9c57-8c68203a2f0d/', 'uuid': '04b79390-8f7c-4b59-9c57-8c68203a2f0d', 'name': 'Gemeente Assen'}, 'project': None, 'description': '', 'extra_metadata': {}, 'access_modifier': 'Private', 'created': '2023-12-13T09:57:40.704146Z', 'last_modified': '2023-12-13T09:57:42.897198Z', 'simulation_identifier': '165737', 'simulation_start': '2020-11-15T14:00:00Z', 'simulation_end': '2020-11-15T15:00:00Z', 'supplier': 'louisdechamps', 'source': '3Di', 'model_identifier': '60384', 'model_revision': '52415', 'model_name': 'assen_pittelo-pittelo_klimaatsom-1-19', 'has_raw_results': True, 'total_size': 224548210, 'spatial_bounds': {'west': 6.53012033373951, 'east': 6.599623455692816, 'north': 53.018962951156944, 'south': 52.99340220662306}, 'projection': 'EPSG:28992', 'origin_x': 231737.5, 'origin_y': 556953.5, 'pixelsize_x': 0.5, 'pixelsize_y': 0.5, 'upper_bound_x': 236358.5, 'upper_bound_y': 559723.0}]\n",
      "3fb180be-fec7-426c-968b-7be7f2442e59\n",
      "3fb180be-fec7-426c-968b-7be7f2442e59\n",
      "Scene\n"
     ]
    },
    {
     "data": {
      "text/plain": [
       "<arcpy._mp.Layer object at 0x00000179E33FE190>"
      ]
     },
     "execution_count": 20,
     "metadata": {},
     "output_type": "execute_result"
    }
   ],
   "source": [
    "base = os.path.normpath(arcpy.env.workspace + os.sep + os.pardir)\n",
    "\n",
    "base_dir = base\n",
    "filename = r'water_lvl.tif'\n",
    "\n",
    "out_path = os.path.join(base_dir, filename)\n",
    "print(out_path)\n",
    "\n",
    "\n",
    "scenarios = dl.find_scenarios_by_name(scenario_name, limit=1)\n",
    "print(scenarios)\n",
    "uuid = ' '\n",
    "for d in scenarios:\n",
    "    uuid = d['uuid']\n",
    "    print(d['uuid'])\n",
    "\n",
    "print(uuid)\n",
    "\n",
    "dl.download_maximum_waterlevel_raster(uuid,srs,pathname = out_path)"
   ]
  },
  {
   "cell_type": "markdown",
   "metadata": {},
   "source": [
    "## Add to scene (Optional)"
   ]
  },
  {
   "cell_type": "code",
   "execution_count": null,
   "metadata": {},
   "outputs": [],
   "source": [
    "aprx = arcpy.mp.ArcGISProject('current')\n",
    "print(aprx.listMaps()[0].name)\n",
    "my_map = aprx.listMaps()[0]\n",
    "my_map.addDataFromPath(out_path)"
   ]
  },
  {
   "cell_type": "markdown",
   "metadata": {},
   "source": [
    "## Multi-Raster Download"
   ]
  },
  {
   "cell_type": "code",
   "execution_count": 23,
   "metadata": {},
   "outputs": [
    {
     "name": "stdout",
     "output_type": "stream",
     "text": [
      "2000-01-01T13:00\n",
      "2000-01-01T13:00 printed\n",
      "2000-01-01T13:10\n",
      "2000-01-01T13:10 printed\n",
      "2000-01-01T13:20\n",
      "2000-01-01T13:20 printed\n",
      "2000-01-01T13:30\n",
      "2000-01-01T13:30 printed\n",
      "2000-01-01T13:40\n",
      "2000-01-01T13:40 printed\n",
      "2000-01-01T13:50\n",
      "2000-01-01T13:50 printed\n",
      "2000-01-01T14:00\n",
      "2000-01-01T14:00 printed\n",
      "2000-01-01T14:10\n",
      "2000-01-01T14:10 printed\n",
      "2000-01-01T14:20\n",
      "2000-01-01T14:20 printed\n",
      "2000-01-01T14:30\n",
      "2000-01-01T14:30 printed\n",
      "2000-01-01T14:40\n",
      "2000-01-01T14:40 printed\n",
      "2000-01-01T14:50\n",
      "2000-01-01T14:50 printed\n"
     ]
    }
   ],
   "source": [
    "\n",
    "output_directory = os.path.normpath(arcpy.env.workspace + os.sep + os.pardir)\n",
    "if not os.path.exists(output_directory):\n",
    "    os.makedirs(output_directory)\n",
    "\n",
    "start_time = datetime.datetime(2000, 1, 1, 13, 0)\n",
    "time_interval = datetime.timedelta(minutes=10)\n",
    "end_time = datetime.datetime(2000, 1, 1, 16, 0)\n",
    "\n",
    "while start_time < end_time:\n",
    "    formatted_time_filename = start_time.strftime(\"%Y%m%d%H%M\")  # For creating filename\n",
    "    formatted_time_request = start_time.strftime(\"%Y-%m-%dT%H:%M\")  # For request\n",
    "    print(formatted_time_request)\n",
    "    \n",
    "    output_filename = f\"water_depth_{formatted_time_filename}.tif\"\n",
    "    full_output_path = os.path.join(output_directory, output_filename)\n",
    "    \n",
    "    try:\n",
    "        dl.download_waterdepth_raster(uuid, srs, 2, formatted_time_request, pathname=full_output_path)\n",
    "        print(formatted_time_request + \" printed\")\n",
    "    except Exception as e:\n",
    "        print(f\"Error downloading raster for {formatted_time_request}: {str(e)}\")\n",
    "    \n",
    "    start_time += time_interval"
   ]
  }
 ],
 "metadata": {
  "kernelspec": {
   "display_name": "ArcGISPro",
   "language": "Python",
   "name": "python3"
  },
  "language_info": {
   "file_extension": ".py",
   "name": "python",
   "version": "3"
  }
 },
 "nbformat": 4,
 "nbformat_minor": 2
}
