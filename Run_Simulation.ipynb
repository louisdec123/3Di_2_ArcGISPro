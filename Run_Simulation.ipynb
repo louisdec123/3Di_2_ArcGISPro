{
 "cells": [
  {
   "cell_type": "markdown",
   "metadata": {},
   "source": [
    "# Starting 3Di Simulation Demo"
   ]
  },
  {
   "cell_type": "markdown",
   "metadata": {},
   "source": [
    "## Install and Import required packages:"
   ]
  },
  {
   "cell_type": "code",
   "execution_count": null,
   "metadata": {
    "collapsed": true
   },
   "outputs": [],
   "source": [
    "!pip install datetime\n",
    "!pip install threedi_api_client\n",
    "!pip install threedi_scenario_downloader"
   ]
  },
  {
   "cell_type": "code",
   "execution_count": 5,
   "metadata": {
    "collapsed": true
   },
   "outputs": [],
   "source": [
    "import arcpy"
   ]
  },
  {
   "cell_type": "code",
   "execution_count": 22,
   "metadata": {
    "collapsed": true
   },
   "outputs": [],
   "source": [
    "from datetime import datetime, timedelta\n",
    "import datetime\n",
    "from getpass import getpass\n",
    "import pandas as pd\n",
    "import json\n",
    "from threedi_api_client.threedi_api_client import ThreediApiClient\n",
    "from threedi_api_client.api import ThreediApi\n",
    "from threedi_api_client.versions import V3Api\n",
    "from threedi_api_client.openapi import ApiException\n",
    "from pandas.io.json import json_normalize\n",
    "import matplotlib.pyplot as plt\n",
    "import requests\n",
    "from pathlib import Path\n",
    "import numpy as np\n",
    "import configparser\n",
    "import os\n",
    "import math\n",
    "from time import sleep\n",
    "from threedi_scenario_downloader import downloader as dl\n",
    "from pathlib import Path"
   ]
  },
  {
   "cell_type": "markdown",
   "metadata": {},
   "source": [
    "## Provide credentials and check connection "
   ]
  },
  {
   "cell_type": "code",
   "execution_count": 7,
   "metadata": {
    "collapsed": true
   },
   "outputs": [],
   "source": [
    "API_HOST = \"https://api.3di.live\"\n",
    "PERSONAL_API_KEY = \"Insert your api key\"\n",
    "\n",
    "\n",
    "config = {\n",
    "    \"THREEDI_API_HOST\": API_HOST,\n",
    "    \"THREEDI_API_PERSONAL_API_TOKEN\": PERSONAL_API_KEY\n",
    "}\n",
    "\n",
    "api_client: V3Api = ThreediApi(config=config)"
   ]
  },
  {
   "cell_type": "code",
   "execution_count": null,
   "metadata": {
    "collapsed": true
   },
   "outputs": [],
   "source": [
    "try:\n",
    "    user = api_client.auth_profile_list()\n",
    "except ApiException as e:\n",
    "    print(\"Oops, something went wrong. Maybe you made a typo?\")\n",
    "else:\n",
    "    print(f\"Successfully logged in as {user.username}!\")"
   ]
  },
  {
   "cell_type": "markdown",
   "metadata": {},
   "source": [
    "## Find and select model"
   ]
  },
  {
   "cell_type": "code",
   "execution_count": null,
   "metadata": {
    "collapsed": true
   },
   "outputs": [],
   "source": [
    "models = api_client.threedimodels_list(limit=5)  # limit to the first 5 results\n",
    "for model in models.results:\n",
    "    print(f\"{model.name}\")"
   ]
  },
  {
   "cell_type": "code",
   "execution_count": null,
   "metadata": {
    "collapsed": true
   },
   "outputs": [],
   "source": [
    "my_model = api_client.threedimodels_list(name__icontains='assen_pittelo - pittelo_klimaatsom (1) #19')\n",
    "print(my_model)\n",
    "\n",
    "my_model = my_model.results[0]"
   ]
  },
  {
   "cell_type": "markdown",
   "metadata": {},
   "source": [
    "## Find organization ID to run the simulation under"
   ]
  },
  {
   "cell_type": "code",
   "execution_count": null,
   "metadata": {
    "collapsed": true
   },
   "outputs": [],
   "source": [
    "organisations = api_client.organisations_list()\n",
    "for organisation in organisations.results:\n",
    "    print(f\"{organisation.name}: {organisation.unique_id}\")"
   ]
  },
  {
   "cell_type": "markdown",
   "metadata": {},
   "source": [
    "## Create Simulation and add event"
   ]
  },
  {
   "cell_type": "code",
   "execution_count": null,
   "metadata": {
    "collapsed": true
   },
   "outputs": [],
   "source": [
    "simulation_templates = api_client.simulation_templates_list(simulation__threedimodel__id=my_model.id)\n",
    "\n",
    "for simulation_template in simulation_templates.results:\n",
    "    print(simulation_template.id, simulation_template.name)\n",
    "\n",
    "assert simulation_templates.count > 0, f\"No simulation templates found for threedimodel {my_model.name}\"\n",
    "\n",
    "simulation_template_id = simulation_templates.results[0].id\n",
    "\n",
    "simulation_name = input('Name your simulation\\n')\n",
    "\n",
    "my_simulation = api_client.simulations_from_template(\n",
    "    data={\n",
    "        \"template\": simulation_template_id,\n",
    "        \"name\": simulation_name,\n",
    "        \"organisation\": '04b793908f7c4b599c578c68203a2f0d',\n",
    "        \"start_datetime\": datetime(2020, 11, 15, 14, 0),\n",
    "        \"duration\": 3600  # in seconds, so we simulate for 1 hour\n",
    "    }\n",
    ")"
   ]
  },
  {
   "cell_type": "markdown",
   "metadata": {},
   "source": [
    "## Add Events"
   ]
  },
  {
   "cell_type": "code",
   "execution_count": null,
   "metadata": {
    "collapsed": true
   },
   "outputs": [],
   "source": [
    "#Add rain timeseries event\n",
    "rain = api_client.simulations_events_rain_timeseries_create(\n",
    "    simulation_pk=my_simulation.id, data={\n",
    "        'offset':0,\n",
    "        'values': [[0, 0.005], [900, 0.002], [1800, 0.001], [2700, 0.0005], [3600, 0]],\n",
    "        'units': 'm/s'}\n",
    ")\n",
    "\n",
    "\n",
    "events = api_client.simulations_events(my_simulation.id)\n",
    "print(events)"
   ]
  },
  {
   "cell_type": "markdown",
   "metadata": {},
   "source": [
    "## Start and check status"
   ]
  },
  {
   "cell_type": "code",
   "execution_count": null,
   "metadata": {
    "collapsed": true
   },
   "outputs": [],
   "source": [
    "status = api_client.simulations_status_list(my_simulation.id)\n",
    "print(status)"
   ]
  },
  {
   "cell_type": "code",
   "execution_count": null,
   "metadata": {
    "collapsed": true
   },
   "outputs": [],
   "source": [
    "api_client.simulations_actions_create(my_simulation.id, data={\"name\": \"start\"})"
   ]
  },
  {
   "cell_type": "code",
   "execution_count": null,
   "metadata": {
    "collapsed": true
   },
   "outputs": [],
   "source": [
    "while True:\n",
    "    simulation_status = api_client.simulations_status_list(my_simulation.id)\n",
    "    \n",
    "    print(f\"Simulation status: {simulation_status.name}\")\n",
    "    \n",
    "    if simulation_status.name.lower() == 'finished':\n",
    "        print(\"Simulation has finished.\")\n",
    "        break\n",
    "    \n",
    "    time.sleep(10)  # Wait for 10 seconds before the next iteration\n"
   ]
  },
  {
   "cell_type": "markdown",
   "metadata": {},
   "source": [
    "# Using Lizard to simulate and download"
   ]
  },
  {
   "cell_type": "markdown",
   "metadata": {},
   "source": [
    "## Post Processing"
   ]
  },
  {
   "cell_type": "code",
   "execution_count": null,
   "metadata": {
    "collapsed": true
   },
   "outputs": [],
   "source": [
    "scenario_name= input('Scenario name: ')\n",
    "testdict = {\n",
    "    \"scenario_name\": scenario_name,\n",
    "    \"process_basic_results\": True,\n",
    "}\n",
    "\n",
    "\n",
    "api_client.simulations_results_post_processing_lizard_basic_create(simulation_pk=my_simulation.id, data = testdict)\n",
    "\n",
    "api_client.simulations_results_post_processing_lizard_start_create(simulation_pk = my_simulation.id, data = testdict)\n",
    "api_client.simulations_results_post_processing_lizard_status_list(simulation_pk=my_simulation.id)"
   ]
  },
  {
   "cell_type": "code",
   "execution_count": null,
   "metadata": {
    "collapsed": true
   },
   "outputs": [],
   "source": [
    "while True:\n",
    "    scenario_status = api_client.simulations_results_post_processing_lizard_status_list(simulation_pk=my_simulation.id)\n",
    "    \n",
    "    print(f\"Simulation status: {scenario_status.status}\")\n",
    "    \n",
    "    if scenario_status.status.lower() == 'archived':\n",
    "        print(\"Scenario is archived.\")\n",
    "        break\n",
    "    \n",
    "    time.sleep(10)  # Wait for 10 seconds before the next iteration"
   ]
  },
  {
   "cell_type": "markdown",
   "metadata": {},
   "source": [
    "## Set Parameters"
   ]
  },
  {
   "cell_type": "code",
   "execution_count": null,
   "metadata": {
    "collapsed": true
   },
   "outputs": [],
   "source": [
    "#Provide login credentials\n",
    "lizard_username = '__key__'\n",
    "api_key = \"Insert lizard api key\"\n",
    "\n",
    "dl.set_api_key(api_key)\n",
    "\n",
    "#Enter scenario information\n",
    "srs = \"EPSG:28992\"\n",
    "raster_resolution = 1\n",
    "name = \"EsriRainfall\" #scenario_name"
   ]
  },
  {
   "cell_type": "markdown",
   "metadata": {},
   "source": [
    "## Download Max Waterlevel"
   ]
  },
  {
   "cell_type": "code",
   "execution_count": null,
   "metadata": {
    "collapsed": true
   },
   "outputs": [],
   "source": [
    "base = os.path.normpath(arcpy.env.workspace + os.sep + os.pardir)\n",
    "\n",
    "base_dir = base\n",
    "filename = r'water_lvl.tif'\n",
    "\n",
    "out_path = os.path.join(base_dir, filename)\n",
    "print(out_path)\n",
    "\n",
    "\n",
    "scenarios = dl.find_scenarios_by_name(scenario_name, limit=1)\n",
    "print(scenarios)\n",
    "uuid = ' '\n",
    "for d in scenarios:\n",
    "    uuid = d['uuid']\n",
    "    print(d['uuid'])\n",
    "\n",
    "print(uuid)\n",
    "\n",
    "dl.download_maximum_waterlevel_raster(uuid,srs,pathname = out_path)"
   ]
  },
  {
   "cell_type": "markdown",
   "metadata": {},
   "source": [
    "## Add to scene (Optional)"
   ]
  },
  {
   "cell_type": "code",
   "execution_count": null,
   "metadata": {
    "collapsed": true
   },
   "outputs": [],
   "source": [
    "aprx = arcpy.mp.ArcGISProject('current')\n",
    "print(aprx.listMaps()[0].name)\n",
    "my_map = aprx.listMaps()[0]\n",
    "my_map.addDataFromPath(out_path)"
   ]
  },
  {
   "cell_type": "markdown",
   "metadata": {},
   "source": [
    "## Multi-Raster Download"
   ]
  },
  {
   "cell_type": "code",
   "execution_count": null,
   "metadata": {
    "collapsed": true
   },
   "outputs": [],
   "source": [
    "\n",
    "output_directory = os.path.normpath(arcpy.env.workspace + os.sep + os.pardir)\n",
    "if not os.path.exists(output_directory):\n",
    "    os.makedirs(output_directory)\n",
    "\n",
    "start_time = datetime.datetime(2000, 1, 1, 15, 0)\n",
    "time_interval = datetime.timedelta(minutes=1)\n",
    "end_time = datetime.datetime(2000, 1, 1, 15, 15)\n",
    "\n",
    "while start_time < end_time:\n",
    "    formatted_time_filename = start_time.strftime(\"%Y%m%d%H%M\")  # For creating filename\n",
    "    formatted_time_request = start_time.strftime(\"%Y-%m-%dT%H:%M\")  # For request\n",
    "    print(formatted_time_request)\n",
    "    \n",
    "    output_filename = f\"water_depth_{formatted_time_filename}.tif\"\n",
    "    full_output_path = os.path.join(output_directory, output_filename)\n",
    "    \n",
    "    try:\n",
    "        dl.download_waterdepth_raster(uuid, srs, 1, formatted_time_request, pathname=full_output_path)\n",
    "        print(formatted_time_request + \" printed\")\n",
    "    except Exception as e:\n",
    "        print(f\"Error downloading raster for {formatted_time_request}: {str(e)}\")\n",
    "    \n",
    "    start_time += time_interval"
   ]
  }
 ],
 "metadata": {
  "kernelspec": {
   "display_name": "ArcGISPro",
   "language": "Python",
   "name": "python3"
  },
  "language_info": {
   "file_extension": ".py",
   "name": "python",
   "version": "3"
  }
 },
 "nbformat": 4,
 "nbformat_minor": 2
}
